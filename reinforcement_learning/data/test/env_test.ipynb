{
 "cells": [
  {
   "cell_type": "code",
   "execution_count": 29,
   "metadata": {},
   "outputs": [],
   "source": [
    "# 載入相關套件\n",
    "import random\n",
    "\n",
    "class ActionSpace():\n",
    "    \n",
    "    def __init__(self, num): # 初始化       \n",
    "        self.n = num # 玩家一開始站中間位置\n",
    "    \n",
    "    def sample(self):        \n",
    "        return  random.randint(0, self.n-1) # 行動空間(Action Space)\n",
    "    \n",
    "\n",
    "\n",
    "\n",
    "# 環境類別\n",
    "class Environment:    \n",
    "    def __init__(self, num): # 初始化       \n",
    "        self.position = 3 # 玩家一開始站中間位置\n",
    "        self.totalReward = 0 \n",
    "        self.action_space = ActionSpace(num)\n",
    "        self.actionlist = []\n",
    "    def get_observation(self):\n",
    "        # 狀態空間(State Space)，共有5個位置\n",
    "        return [i for i in range(1, 6)]\n",
    "\n",
    "    def is_done(self): # 判斷比賽回合是否結束\n",
    "        # 是否走到左右端點\n",
    "        return self.position == 1 or self.position == 5\n",
    "\n",
    "    # 步驟\n",
    "    def step(self, action):\n",
    "        # 是否回合已結束\n",
    "            \n",
    "        print(f\"累計報酬: {self.totalReward:.4f}\")\n",
    "        print(f\"行動: {self.actionlist}\")\n",
    "            \n",
    "        self.actionlist.append(action)\n",
    "        self.position = self.position + 1 if (action) else self.position - 1\n",
    "        if self.position == 1:\n",
    "            self.totalReward -= 1\n",
    "        elif self.position == 5:\n",
    "            self.totalReward += 1\n",
    "        else:    \n",
    "            self.totalReward -= 0.02\n",
    "        print(self.position, self.totalReward)\n",
    "        return self.position, self.totalReward, self.is_done(), 0, 0\n",
    "\n",
    "    def reset(self):\n",
    "        self.position = 3 # 玩家一開始站中間位置\n",
    "        self.totalReward = 0\n",
    "        return(self.position, None)\n",
    "    \n",
    "    def displayPosition(self):\n",
    "        print('現在位置', self.position)\n",
    "    #def sample(self):\n"
   ]
  },
  {
   "attachments": {},
   "cell_type": "markdown",
   "metadata": {},
   "source": []
  },
  {
   "cell_type": "code",
   "execution_count": 30,
   "metadata": {},
   "outputs": [
    {
     "name": "stdout",
     "output_type": "stream",
     "text": [
      "現在位置 3\n",
      "累計報酬: 0.0000\n",
      "行動: []\n",
      "2 -0.02\n",
      "累計報酬: -0.0200\n",
      "行動: [0]\n",
      "3 -0.04\n",
      "累計報酬: -0.0400\n",
      "行動: [0, 1]\n",
      "4 -0.06\n",
      "累計報酬: -0.0600\n",
      "行動: [0, 1, 1]\n",
      "5 0.94\n"
     ]
    },
    {
     "data": {
      "text/plain": [
       "(5, 0.94, True, 0, 0)"
      ]
     },
     "execution_count": 30,
     "metadata": {},
     "output_type": "execute_result"
    }
   ],
   "source": [
    "env = Environment(2)\n",
    "env.displayPosition()\n",
    "env.step(0)\n",
    "env.step(1)\n",
    "env.step(1)\n",
    "env.step(1)"
   ]
  },
  {
   "cell_type": "code",
   "execution_count": 36,
   "metadata": {},
   "outputs": [
    {
     "data": {
      "text/plain": [
       "1"
      ]
     },
     "execution_count": 36,
     "metadata": {},
     "output_type": "execute_result"
    }
   ],
   "source": [
    "random.randint(0, 1)"
   ]
  },
  {
   "cell_type": "code",
   "execution_count": 2,
   "metadata": {},
   "outputs": [
    {
     "name": "stdout",
     "output_type": "stream",
     "text": [
      "0\n",
      "1\n",
      "2\n",
      "3\n",
      "4\n",
      "5\n",
      "6\n",
      "7\n",
      "8\n",
      "9\n",
      "10\n"
     ]
    }
   ],
   "source": [
    "from itertools import count\n",
    "for t in count():\n",
    "    if t> 10:\n",
    "        break\n",
    "    print(t)"
   ]
  },
  {
   "cell_type": "code",
   "execution_count": 2,
   "metadata": {},
   "outputs": [
    {
     "data": {
      "text/plain": [
       "[4, 5, 6]"
      ]
     },
     "execution_count": 2,
     "metadata": {},
     "output_type": "execute_result"
    }
   ],
   "source": [
    "a = [1,2,3,4,5,6]\n",
    "a[-3:]"
   ]
  },
  {
   "cell_type": "code",
   "execution_count": 3,
   "metadata": {},
   "outputs": [
    {
     "data": {
      "text/plain": [
       "3.225806451612903"
      ]
     },
     "execution_count": 3,
     "metadata": {},
     "output_type": "execute_result"
    }
   ],
   "source": [
    "a = 10\n",
    "b = int(a)\n",
    "b / 3.1"
   ]
  },
  {
   "cell_type": "code",
   "execution_count": 3,
   "metadata": {},
   "outputs": [],
   "source": [
    "import torch"
   ]
  },
  {
   "cell_type": "code",
   "execution_count": 8,
   "metadata": {},
   "outputs": [
    {
     "data": {
      "text/plain": [
       "tensor([1, 0, 2, 0, 3])"
      ]
     },
     "execution_count": 8,
     "metadata": {},
     "output_type": "execute_result"
    }
   ],
   "source": [
    "a = torch.tensor([1, 2, 3])\n",
    "b = torch.tensor([True, False, True, False, True])\n",
    "c = torch.tensor([0, 0, 0, 0, 0])\n",
    "c[b] = a\n",
    "c"
   ]
  }
 ],
 "metadata": {
  "kernelspec": {
   "display_name": "Python 3",
   "language": "python",
   "name": "python3"
  },
  "language_info": {
   "codemirror_mode": {
    "name": "ipython",
    "version": 3
   },
   "file_extension": ".py",
   "mimetype": "text/x-python",
   "name": "python",
   "nbconvert_exporter": "python",
   "pygments_lexer": "ipython3",
   "version": "3.8.10"
  },
  "orig_nbformat": 4
 },
 "nbformat": 4,
 "nbformat_minor": 2
}
