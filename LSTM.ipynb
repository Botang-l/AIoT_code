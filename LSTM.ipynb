{
 "cells": [
  {
   "cell_type": "code",
   "execution_count": 20,
   "metadata": {},
   "outputs": [],
   "source": [
    "import torch\n",
    "import json"
   ]
  },
  {
   "cell_type": "code",
   "execution_count": 21,
   "metadata": {},
   "outputs": [],
   "source": [
    "with open('/home/remote_user/sharefile/AIoT_code/time_series_model/data/MaxMinData.json', 'r') as file:\n",
    "    data = json.load(file)\n",
    "PDmax = data['PDmax']\n",
    "PDmin = data['PDmin']\n",
    "Tmax = data['Tmax']\n",
    "Tmin = data['Tmin']\n",
    "ACCmax = data['ACCmax']\n",
    "ACCmin = data['ACCmin']"
   ]
  },
  {
   "cell_type": "code",
   "execution_count": 22,
   "metadata": {},
   "outputs": [
    {
     "data": {
      "text/plain": [
       "(1.9444999999999708, 0.0, 30.5, 25.0, 32.0, 21.0)"
      ]
     },
     "execution_count": 22,
     "metadata": {},
     "output_type": "execute_result"
    }
   ],
   "source": [
    "PDmax, PDmin, Tmax, Tmin, ACCmax, ACCmin"
   ]
  },
  {
   "cell_type": "code",
   "execution_count": 23,
   "metadata": {},
   "outputs": [],
   "source": [
    "def temp_normalize(T):\n",
    "    return ((T - Tmin)/(Tmax - Tmin))\n",
    "        \n",
    "def PD_normalize(PD):    \n",
    "    return ((PD - PDmin) / (PDmax - PDmin))\n",
    "\n",
    "def ACC_normalize(ACC):\n",
    "    return ((ACC - ACCmin) / (ACCmax - ACCmin))\n",
    "\n",
    "def temp_denormalize(T):\n",
    "    return ((Tmax - Tmin) * T + Tmin)\n",
    "        \n",
    "def PD_denormalize(PD):    \n",
    "    return ((PDmax - PDmin) * PD + PDmin)\n",
    "\n",
    "def ACC_denormalize(ACC):\n",
    "    return ((ACCmax - ACCmin) * ACC + ACCmin)"
   ]
  },
  {
   "cell_type": "code",
   "execution_count": 24,
   "metadata": {},
   "outputs": [
    {
     "data": {
      "text/plain": [
       "TransformerModel(\n",
       "  (embedding): Linear(in_features=10, out_features=16, bias=True)\n",
       "  (transformer): Transformer(\n",
       "    (encoder): TransformerEncoder(\n",
       "      (layers): ModuleList(\n",
       "        (0): TransformerEncoderLayer(\n",
       "          (self_attn): MultiheadAttention(\n",
       "            (out_proj): NonDynamicallyQuantizableLinear(in_features=16, out_features=16, bias=True)\n",
       "          )\n",
       "          (linear1): Linear(in_features=16, out_features=2048, bias=True)\n",
       "          (dropout): Dropout(p=0.1, inplace=False)\n",
       "          (linear2): Linear(in_features=2048, out_features=16, bias=True)\n",
       "          (norm1): LayerNorm((16,), eps=1e-05, elementwise_affine=True)\n",
       "          (norm2): LayerNorm((16,), eps=1e-05, elementwise_affine=True)\n",
       "          (dropout1): Dropout(p=0.1, inplace=False)\n",
       "          (dropout2): Dropout(p=0.1, inplace=False)\n",
       "        )\n",
       "      )\n",
       "      (norm): LayerNorm((16,), eps=1e-05, elementwise_affine=True)\n",
       "    )\n",
       "    (decoder): TransformerDecoder(\n",
       "      (layers): ModuleList(\n",
       "        (0): TransformerDecoderLayer(\n",
       "          (self_attn): MultiheadAttention(\n",
       "            (out_proj): NonDynamicallyQuantizableLinear(in_features=16, out_features=16, bias=True)\n",
       "          )\n",
       "          (multihead_attn): MultiheadAttention(\n",
       "            (out_proj): NonDynamicallyQuantizableLinear(in_features=16, out_features=16, bias=True)\n",
       "          )\n",
       "          (linear1): Linear(in_features=16, out_features=2048, bias=True)\n",
       "          (dropout): Dropout(p=0.1, inplace=False)\n",
       "          (linear2): Linear(in_features=2048, out_features=16, bias=True)\n",
       "          (norm1): LayerNorm((16,), eps=1e-05, elementwise_affine=True)\n",
       "          (norm2): LayerNorm((16,), eps=1e-05, elementwise_affine=True)\n",
       "          (norm3): LayerNorm((16,), eps=1e-05, elementwise_affine=True)\n",
       "          (dropout1): Dropout(p=0.1, inplace=False)\n",
       "          (dropout2): Dropout(p=0.1, inplace=False)\n",
       "          (dropout3): Dropout(p=0.1, inplace=False)\n",
       "        )\n",
       "      )\n",
       "      (norm): LayerNorm((16,), eps=1e-05, elementwise_affine=True)\n",
       "    )\n",
       "  )\n",
       "  (fc): Linear(in_features=16, out_features=1, bias=True)\n",
       ")"
      ]
     },
     "execution_count": 24,
     "metadata": {},
     "output_type": "execute_result"
    }
   ],
   "source": [
    "# if GPU is to be used\n",
    "device = torch.device(\"cuda\" if torch.cuda.is_available() else \"cpu\")\n",
    "\n",
    "path = '/home/remote_user/sharefile/AIoT_code/time_series_model/model/Transformer_PD_Model.pkl'\n",
    "loaded_model = torch.load(path)\n",
    "PD_model = loaded_model['model'].to(device)\n",
    "PD_model.eval()\n",
    "\n",
    "path = '/home/remote_user/sharefile/AIoT_code/time_series_model/model/Transformer_Temp_Model.pkl'\n",
    "loaded_model = torch.load(path)\n",
    "Temp_model = loaded_model['model'].to(device)\n",
    "Temp_model.eval()"
   ]
  },
  {
   "cell_type": "code",
   "execution_count": 25,
   "metadata": {},
   "outputs": [
    {
     "data": {
      "text/plain": [
       "torch.Size([5716, 30, 10])"
      ]
     },
     "execution_count": 25,
     "metadata": {},
     "output_type": "execute_result"
    }
   ],
   "source": [
    "ori_data = torch.load('/home/remote_user/sharefile/AIoT_code/time_series_model/data/dataset.pt')\n",
    "ori_data.shape"
   ]
  },
  {
   "cell_type": "code",
   "execution_count": 26,
   "metadata": {},
   "outputs": [
    {
     "data": {
      "text/plain": [
       "tensor(0.1818)"
      ]
     },
     "execution_count": 26,
     "metadata": {},
     "output_type": "execute_result"
    }
   ],
   "source": [
    "ori_data[100][0][0]"
   ]
  },
  {
   "cell_type": "code",
   "execution_count": 27,
   "metadata": {},
   "outputs": [
    {
     "data": {
      "text/plain": [
       "tensor(26.)"
      ]
     },
     "execution_count": 27,
     "metadata": {},
     "output_type": "execute_result"
    }
   ],
   "source": [
    "temp_denormalize(ori_data[100][0][0])"
   ]
  },
  {
   "cell_type": "code",
   "execution_count": 28,
   "metadata": {},
   "outputs": [
    {
     "name": "stdout",
     "output_type": "stream",
     "text": [
      "室內溫度 : 27.14\n",
      "21 度: 26.0258\n",
      "22 度: 26.0255\n",
      "23 度: 26.0251\n",
      "24 度: 26.0248\n",
      "25 度: 26.0245\n",
      "26 度: 26.0243\n",
      "27 度: 26.024\n",
      "32 度: 26.0221\n",
      "====================\n",
      "室內溫度 : 26.74\n",
      "21 度: 26.0218\n",
      "22 度: 26.0216\n",
      "23 度: 26.0214\n",
      "24 度: 26.0212\n",
      "25 度: 26.0211\n",
      "26 度: 26.0209\n",
      "27 度: 26.0208\n",
      "32 度: 26.0193\n",
      "====================\n",
      "室內溫度 : 26.36\n",
      "21 度: 26.0194\n",
      "22 度: 26.0193\n",
      "23 度: 26.0192\n",
      "24 度: 26.0191\n",
      "25 度: 26.019\n",
      "26 度: 26.019\n",
      "27 度: 26.0189\n",
      "32 度: 26.0177\n",
      "====================\n",
      "室內溫度 : 26.2\n",
      "21 度: 26.0189\n",
      "22 度: 26.0189\n",
      "23 度: 26.0188\n",
      "24 度: 26.0187\n",
      "25 度: 26.0186\n",
      "26 度: 26.0186\n",
      "27 度: 26.0185\n",
      "32 度: 26.0174\n",
      "====================\n",
      "室內溫度 : 26.2\n",
      "21 度: 26.0175\n",
      "22 度: 26.0175\n",
      "23 度: 26.0175\n",
      "24 度: 26.0175\n",
      "25 度: 26.0174\n",
      "26 度: 26.0174\n",
      "27 度: 26.0174\n",
      "32 度: 26.0164\n",
      "====================\n",
      "室內溫度 : 26.1\n",
      "21 度: 26.0171\n",
      "22 度: 26.0171\n",
      "23 度: 26.0171\n",
      "24 度: 26.0171\n",
      "25 度: 26.0171\n",
      "26 度: 26.0171\n",
      "27 度: 26.0171\n",
      "32 度: 26.0161\n",
      "====================\n",
      "室內溫度 : 26.0\n",
      "21 度: 26.0173\n",
      "22 度: 26.0173\n",
      "23 度: 26.0173\n",
      "24 度: 26.0173\n",
      "25 度: 26.0173\n",
      "26 度: 26.0173\n",
      "27 度: 26.0173\n",
      "32 度: 26.0163\n",
      "====================\n",
      "室內溫度 : 26.0\n",
      "21 度: 26.0161\n",
      "22 度: 26.0162\n",
      "23 度: 26.0162\n",
      "24 度: 26.0162\n",
      "25 度: 26.0163\n",
      "26 度: 26.0163\n",
      "27 度: 26.0163\n",
      "32 度: 26.0155\n",
      "====================\n",
      "室內溫度 : 26.0\n",
      "21 度: 26.0164\n",
      "22 度: 26.0164\n",
      "23 度: 26.0164\n",
      "24 度: 26.0164\n",
      "25 度: 26.0165\n",
      "26 度: 26.0165\n",
      "27 度: 26.0165\n",
      "32 度: 26.0157\n",
      "====================\n",
      "室內溫度 : 26.02\n",
      "21 度: 26.0173\n",
      "22 度: 26.0173\n",
      "23 度: 26.0173\n",
      "24 度: 26.0173\n",
      "25 度: 26.0173\n",
      "26 度: 26.0173\n",
      "27 度: 26.0172\n",
      "32 度: 26.0163\n",
      "====================\n"
     ]
    }
   ],
   "source": [
    "for i in range(0, 100, 10):\n",
    "    print('室內溫度 :', round(temp_denormalize(ori_data[i][-1][0]).item(), 4))\n",
    "    for j in [21,22,23,24,25,26,27,32]:\n",
    "        jj = ACC_denormalize(j)\n",
    "        # ori_data[i][-3][2] = jj\n",
    "        # ori_data[i][-2][2] = jj\n",
    "        ori_data[i][-1][2] = jj\n",
    "        ori_data[i][-1][4] = 0 if(j==32) else 1\n",
    "        res = Temp_model(ori_data[i].unsqueeze(0).to(device))\n",
    "        res = temp_denormalize(res.item())\n",
    "        print(j,\"度:\", round(res,4))\n",
    "    print('='*20)\n",
    "        "
   ]
  }
 ],
 "metadata": {
  "kernelspec": {
   "display_name": "Python 3",
   "language": "python",
   "name": "python3"
  },
  "language_info": {
   "codemirror_mode": {
    "name": "ipython",
    "version": 3
   },
   "file_extension": ".py",
   "mimetype": "text/x-python",
   "name": "python",
   "nbconvert_exporter": "python",
   "pygments_lexer": "ipython3",
   "version": "3.8.10"
  },
  "orig_nbformat": 4
 },
 "nbformat": 4,
 "nbformat_minor": 2
}
