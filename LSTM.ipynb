{
 "cells": [
  {
   "cell_type": "code",
   "execution_count": 86,
   "metadata": {},
   "outputs": [],
   "source": [
    "import torch\n",
    "import json"
   ]
  },
  {
   "cell_type": "code",
   "execution_count": 87,
   "metadata": {},
   "outputs": [],
   "source": [
    "with open('/home/remote_user/sharefile/AIoT_code/time_series_model/data/MaxMinData.json', 'r') as file:\n",
    "    data = json.load(file)\n",
    "PDmax = data['PDmax']\n",
    "PDmin = data['PDmin']\n",
    "Tmax = data['Tmax']\n",
    "Tmin = data['Tmin']\n",
    "ACCmax = data['ACCmax']\n",
    "ACCmin = data['ACCmin']"
   ]
  },
  {
   "cell_type": "code",
   "execution_count": 88,
   "metadata": {},
   "outputs": [
    {
     "data": {
      "text/plain": [
       "(10.831600000000071, 0.0015199999999822467, 30.5, 25.0, 32.0, 21.0)"
      ]
     },
     "execution_count": 88,
     "metadata": {},
     "output_type": "execute_result"
    }
   ],
   "source": [
    "PDmax, PDmin, Tmax, Tmin, ACCmax, ACCmin"
   ]
  },
  {
   "cell_type": "code",
   "execution_count": 89,
   "metadata": {},
   "outputs": [],
   "source": [
    "def temp_normalize(T):\n",
    "    return ((T - Tmin)/(Tmax - Tmin))\n",
    "        \n",
    "def PD_normalize(PD):    \n",
    "    return ((PD - PDmin) / (PDmax - PDmin))\n",
    "\n",
    "def ACC_normalize(ACC):\n",
    "    return ((ACC - ACCmin) / (ACCmax - ACCmin))\n",
    "\n",
    "def temp_denormalize(T):\n",
    "    return ((Tmax - Tmin) * T + Tmin)\n",
    "        \n",
    "def PD_denormalize(PD):    \n",
    "    return ((PDmax - PDmin) * PD + PDmin)\n",
    "\n",
    "def ACC_denormalize(ACC):\n",
    "    return ((ACCmax - ACCmin) * ACC + ACCmin)"
   ]
  },
  {
   "cell_type": "code",
   "execution_count": 90,
   "metadata": {},
   "outputs": [
    {
     "data": {
      "text/plain": [
       "LSTM(\n",
       "  (lstm): LSTM(9, 32, batch_first=True)\n",
       "  (linear): Linear(in_features=32, out_features=1, bias=True)\n",
       ")"
      ]
     },
     "execution_count": 90,
     "metadata": {},
     "output_type": "execute_result"
    }
   ],
   "source": [
    "# if GPU is to be used\n",
    "device = torch.device(\"cuda\" if torch.cuda.is_available() else \"cpu\")\n",
    "\n",
    "path = '/home/remote_user/sharefile/AIoT_code/time_series_model/model/PD_Model.pkl'\n",
    "loaded_model = torch.load(path)\n",
    "PD_model = loaded_model['model'].to(device)\n",
    "PD_model.eval()\n",
    "\n",
    "path = '/home/remote_user/sharefile/AIoT_code/time_series_model/model/Temp_Model.pkl'\n",
    "loaded_model = torch.load(path)\n",
    "Temp_model = loaded_model['model'].to(device)\n",
    "Temp_model.eval()"
   ]
  },
  {
   "cell_type": "code",
   "execution_count": 91,
   "metadata": {},
   "outputs": [
    {
     "data": {
      "text/plain": [
       "torch.Size([5716, 30, 9])"
      ]
     },
     "execution_count": 91,
     "metadata": {},
     "output_type": "execute_result"
    }
   ],
   "source": [
    "ori_data = torch.load('/home/remote_user/sharefile/AIoT_code/time_series_model/data/dataset.pt')\n",
    "ori_data.shape"
   ]
  },
  {
   "cell_type": "code",
   "execution_count": 92,
   "metadata": {},
   "outputs": [
    {
     "data": {
      "text/plain": [
       "tensor(0.1818)"
      ]
     },
     "execution_count": 92,
     "metadata": {},
     "output_type": "execute_result"
    }
   ],
   "source": [
    "ori_data[100][0][0]"
   ]
  },
  {
   "cell_type": "code",
   "execution_count": 93,
   "metadata": {},
   "outputs": [
    {
     "data": {
      "text/plain": [
       "tensor(26.)"
      ]
     },
     "execution_count": 93,
     "metadata": {},
     "output_type": "execute_result"
    }
   ],
   "source": [
    "temp_denormalize(ori_data[100][0][0])"
   ]
  },
  {
   "cell_type": "code",
   "execution_count": 94,
   "metadata": {},
   "outputs": [
    {
     "name": "stdout",
     "output_type": "stream",
     "text": [
      "室內溫度 : 27.14\n",
      "21 度: 27.1574\n",
      "22 度: 27.1565\n",
      "23 度: 27.1556\n",
      "24 度: 27.1545\n",
      "25 度: 27.1533\n",
      "26 度: 27.152\n",
      "27 度: 27.1506\n",
      "32 度: 27.142\n",
      "====================\n",
      "室內溫度 : 26.74\n",
      "21 度: 26.7746\n",
      "22 度: 26.7722\n",
      "23 度: 26.7697\n",
      "24 度: 26.7671\n",
      "25 度: 26.7644\n",
      "26 度: 26.7617\n",
      "27 度: 26.7588\n",
      "32 度: 26.7431\n",
      "====================\n",
      "室內溫度 : 26.36\n",
      "21 度: 26.403\n",
      "22 度: 26.3996\n",
      "23 度: 26.3961\n",
      "24 度: 26.3925\n",
      "25 度: 26.3888\n",
      "26 度: 26.385\n",
      "27 度: 26.3812\n",
      "32 度: 26.3608\n",
      "====================\n"
     ]
    }
   ],
   "source": [
    "for i in range(0, 30, 10):\n",
    "    print('室內溫度 :', round(temp_denormalize(ori_data[i][-1][0]).item(), 4))\n",
    "    for j in [21,22,23,24,25,26,27,32]:\n",
    "        jj = ACC_normalize(j)\n",
    "        ori_data[i][-3][2] = jj\n",
    "        ori_data[i][-2][2] = jj\n",
    "        ori_data[i][-1][2] = jj\n",
    "        res = Temp_model(ori_data[i].unsqueeze(0).to(device))\n",
    "        res = temp_denormalize(res.item())\n",
    "        print(j,\"度:\", round(res,4))\n",
    "    print('='*20)\n",
    "        "
   ]
  },
  {
   "cell_type": "code",
   "execution_count": 95,
   "metadata": {},
   "outputs": [
    {
     "name": "stdout",
     "output_type": "stream",
     "text": [
      "tensor([5, 6, 7, 8])\n"
     ]
    }
   ],
   "source": [
    "import torch\n",
    "\n",
    "# 創建二維 Tensor\n",
    "tensor = torch.tensor([[1, 2, 3, 4],\n",
    "                       [5, 6, 7, 8],\n",
    "                       [9, 10, 11, 12]])\n",
    "\n",
    "# 提取範圍 [1][0] 到 [1][3] 的所有數據\n",
    "extracted_data = tensor[1, 0:4]\n",
    "\n",
    "# 打印結果\n",
    "print(extracted_data)\n"
   ]
  }
 ],
 "metadata": {
  "kernelspec": {
   "display_name": "Python 3",
   "language": "python",
   "name": "python3"
  },
  "language_info": {
   "codemirror_mode": {
    "name": "ipython",
    "version": 3
   },
   "file_extension": ".py",
   "mimetype": "text/x-python",
   "name": "python",
   "nbconvert_exporter": "python",
   "pygments_lexer": "ipython3",
   "version": "3.8.10"
  },
  "orig_nbformat": 4
 },
 "nbformat": 4,
 "nbformat_minor": 2
}
