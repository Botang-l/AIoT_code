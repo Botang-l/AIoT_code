{
 "cells": [
  {
   "cell_type": "code",
   "execution_count": 296,
   "metadata": {},
   "outputs": [],
   "source": [
    "import torch\n",
    "import json"
   ]
  },
  {
   "cell_type": "code",
   "execution_count": 297,
   "metadata": {},
   "outputs": [],
   "source": [
    "with open('/home/remote_user/sharefile/AIoT_code/time_series_model/data/MaxMinData.json', 'r') as file:\n",
    "    data = json.load(file)\n",
    "PDmax = data['PDmax']\n",
    "PDmin = data['PDmin']\n",
    "Tmax = data['Tmax']\n",
    "Tmin = data['Tmin']\n",
    "ACCmax = data['ACCmax']\n",
    "ACCmin = data['ACCmin']"
   ]
  },
  {
   "cell_type": "code",
   "execution_count": 298,
   "metadata": {},
   "outputs": [
    {
     "data": {
      "text/plain": [
       "(1.9444999999999708, 0.0, 30.5, 25.0, 32.0, 21.0)"
      ]
     },
     "execution_count": 298,
     "metadata": {},
     "output_type": "execute_result"
    }
   ],
   "source": [
    "PDmax, PDmin, Tmax, Tmin, ACCmax, ACCmin"
   ]
  },
  {
   "cell_type": "code",
   "execution_count": 299,
   "metadata": {},
   "outputs": [],
   "source": [
    "def temp_normalize(T):\n",
    "    return ((T - Tmin)/(Tmax - Tmin))\n",
    "        \n",
    "def PD_normalize(PD):    \n",
    "    return ((PD - PDmin) / (PDmax - PDmin))\n",
    "\n",
    "def ACC_normalize(ACC):\n",
    "    return ((ACC - ACCmin) / (ACCmax - ACCmin))\n",
    "\n",
    "def temp_denormalize(T):\n",
    "    return ((Tmax - Tmin) * T + Tmin)\n",
    "        \n",
    "def PD_denormalize(PD):    \n",
    "    return ((PDmax - PDmin) * PD + PDmin)\n",
    "\n",
    "def ACC_denormalize(ACC):\n",
    "    return ((ACCmax - ACCmin) * ACC + ACCmin)"
   ]
  },
  {
   "cell_type": "code",
   "execution_count": 300,
   "metadata": {},
   "outputs": [
    {
     "data": {
      "text/plain": [
       "LSTM(\n",
       "  (lstm): LSTM(10, 32, batch_first=True)\n",
       "  (linear): Linear(in_features=32, out_features=1, bias=True)\n",
       ")"
      ]
     },
     "execution_count": 300,
     "metadata": {},
     "output_type": "execute_result"
    }
   ],
   "source": [
    "# if GPU is to be used\n",
    "device = torch.device(\"cuda\" if torch.cuda.is_available() else \"cpu\")\n",
    "\n",
    "path = '/home/remote_user/sharefile/AIoT_code/time_series_model/model/PD_Model.pkl'\n",
    "loaded_model = torch.load(path)\n",
    "PD_model = loaded_model['model'].to(device)\n",
    "PD_model.eval()\n",
    "\n",
    "path = '/home/remote_user/sharefile/AIoT_code/time_series_model/model/Temp_Model.pkl'\n",
    "loaded_model = torch.load(path)\n",
    "Temp_model = loaded_model['model'].to(device)\n",
    "Temp_model.eval()"
   ]
  },
  {
   "cell_type": "code",
   "execution_count": 301,
   "metadata": {},
   "outputs": [
    {
     "data": {
      "text/plain": [
       "torch.Size([5716, 30, 10])"
      ]
     },
     "execution_count": 301,
     "metadata": {},
     "output_type": "execute_result"
    }
   ],
   "source": [
    "ori_data = torch.load('/home/remote_user/sharefile/AIoT_code/time_series_model/data/dataset.pt')\n",
    "ori_data.shape"
   ]
  },
  {
   "cell_type": "code",
   "execution_count": 302,
   "metadata": {},
   "outputs": [
    {
     "data": {
      "text/plain": [
       "tensor(0.1818)"
      ]
     },
     "execution_count": 302,
     "metadata": {},
     "output_type": "execute_result"
    }
   ],
   "source": [
    "ori_data[100][0][0]"
   ]
  },
  {
   "cell_type": "code",
   "execution_count": 303,
   "metadata": {},
   "outputs": [
    {
     "data": {
      "text/plain": [
       "tensor(26.)"
      ]
     },
     "execution_count": 303,
     "metadata": {},
     "output_type": "execute_result"
    }
   ],
   "source": [
    "temp_denormalize(ori_data[100][0][0])"
   ]
  },
  {
   "cell_type": "code",
   "execution_count": 304,
   "metadata": {},
   "outputs": [
    {
     "name": "stdout",
     "output_type": "stream",
     "text": [
      "室內溫度 : 27.14\n",
      "21 度: 27.1168\n",
      "22 度: 27.1202\n",
      "23 度: 27.1236\n",
      "24 度: 27.1267\n",
      "25 度: 27.1297\n",
      "26 度: 27.1325\n",
      "27 度: 27.1352\n",
      "32 度: 27.2377\n",
      "====================\n",
      "室內溫度 : 26.98\n",
      "21 度: 26.9756\n",
      "22 度: 26.9786\n",
      "23 度: 26.9814\n",
      "24 度: 26.9841\n",
      "25 度: 26.9865\n",
      "26 度: 26.9889\n",
      "27 度: 26.9911\n",
      "32 度: 27.09\n",
      "====================\n",
      "室內溫度 : 26.74\n",
      "21 度: 26.7369\n",
      "22 度: 26.7386\n",
      "23 度: 26.7402\n",
      "24 度: 26.7416\n",
      "25 度: 26.7428\n",
      "26 度: 26.7439\n",
      "27 度: 26.7449\n",
      "32 度: 26.837\n",
      "====================\n",
      "室內溫度 : 26.52\n",
      "21 度: 26.5145\n",
      "22 度: 26.5153\n",
      "23 度: 26.5159\n",
      "24 度: 26.5164\n",
      "25 度: 26.5167\n",
      "26 度: 26.517\n",
      "27 度: 26.517\n",
      "32 度: 26.6013\n",
      "====================\n",
      "室內溫度 : 26.36\n",
      "21 度: 26.358\n",
      "22 度: 26.3583\n",
      "23 度: 26.3584\n",
      "24 度: 26.3584\n",
      "25 度: 26.3583\n",
      "26 度: 26.358\n",
      "27 度: 26.3577\n",
      "32 度: 26.4375\n",
      "====================\n",
      "室內溫度 : 26.22\n",
      "21 度: 26.2121\n",
      "22 度: 26.2121\n",
      "23 度: 26.212\n",
      "24 度: 26.2118\n",
      "25 度: 26.2115\n",
      "26 度: 26.2111\n",
      "27 度: 26.2106\n",
      "32 度: 26.2868\n",
      "====================\n",
      "室內溫度 : 26.2\n",
      "21 度: 26.1824\n",
      "22 度: 26.1826\n",
      "23 度: 26.1827\n",
      "24 度: 26.1826\n",
      "25 度: 26.1825\n",
      "26 度: 26.1822\n",
      "27 度: 26.1819\n",
      "32 度: 26.258\n",
      "====================\n",
      "室內溫度 : 26.2\n",
      "21 度: 26.1785\n",
      "22 度: 26.1787\n",
      "23 度: 26.1787\n",
      "24 度: 26.1786\n",
      "25 度: 26.1784\n",
      "26 度: 26.1781\n",
      "27 度: 26.1777\n",
      "32 度: 26.2539\n",
      "====================\n",
      "室內溫度 : 26.2\n",
      "21 度: 26.1709\n",
      "22 度: 26.1706\n",
      "23 度: 26.1701\n",
      "24 度: 26.1696\n",
      "25 度: 26.1689\n",
      "26 度: 26.1681\n",
      "27 度: 26.1671\n",
      "32 度: 26.2414\n",
      "====================\n",
      "室內溫度 : 26.1\n",
      "21 度: 26.0845\n",
      "22 度: 26.0839\n",
      "23 度: 26.0833\n",
      "24 度: 26.0825\n",
      "25 度: 26.0817\n",
      "26 度: 26.0807\n",
      "27 度: 26.0796\n",
      "32 度: 26.1515\n",
      "====================\n"
     ]
    }
   ],
   "source": [
    "for i in range(0, 50, 5):\n",
    "    print('室內溫度 :', round(temp_denormalize(ori_data[i][-1][0]).item(), 4))\n",
    "    for j in [21,22,23,24,25,26,27,32]:\n",
    "        jj = ACC_normalize(j)\n",
    "        # ori_data[i][-3][2] = jj\n",
    "        # ori_data[i][-2][2] = jj\n",
    "        ori_data[i][-1][2] = jj\n",
    "        ori_data[i][-1][4] = 0 if j == 32 else  1\n",
    "        res = Temp_model(ori_data[i].unsqueeze(0).to(device))\n",
    "        res = temp_denormalize(res.item())\n",
    "        print(j,\"度:\", round(res,4))\n",
    "    print('='*20)\n",
    "        "
   ]
  },
  {
   "cell_type": "code",
   "execution_count": 305,
   "metadata": {},
   "outputs": [
    {
     "name": "stdout",
     "output_type": "stream",
     "text": [
      "tensor([5, 6, 7, 8])\n"
     ]
    }
   ],
   "source": [
    "import torch\n",
    "\n",
    "# 創建二維 Tensor\n",
    "tensor = torch.tensor([[1, 2, 3, 4],\n",
    "                       [5, 6, 7, 8],\n",
    "                       [9, 10, 11, 12]])\n",
    "\n",
    "# 提取範圍 [1][0] 到 [1][3] 的所有數據\n",
    "extracted_data = tensor[1, 0:4]\n",
    "\n",
    "# 打印結果\n",
    "print(extracted_data)\n"
   ]
  }
 ],
 "metadata": {
  "kernelspec": {
   "display_name": "Python 3",
   "language": "python",
   "name": "python3"
  },
  "language_info": {
   "codemirror_mode": {
    "name": "ipython",
    "version": 3
   },
   "file_extension": ".py",
   "mimetype": "text/x-python",
   "name": "python",
   "nbconvert_exporter": "python",
   "pygments_lexer": "ipython3",
   "version": "3.8.10"
  },
  "orig_nbformat": 4
 },
 "nbformat": 4,
 "nbformat_minor": 2
}
