{
 "cells": [
  {
   "cell_type": "code",
   "execution_count": 251,
   "metadata": {},
   "outputs": [],
   "source": [
    "import torch\n",
    "import json"
   ]
  },
  {
   "cell_type": "code",
   "execution_count": 252,
   "metadata": {},
   "outputs": [],
   "source": [
    "with open('/home/remote_user/sharefile/AIoT_code/time_series_model/data/MaxMinData.json', 'r') as file:\n",
    "    data = json.load(file)\n",
    "PDmax = data['PDmax']\n",
    "PDmin = data['PDmin']\n",
    "Tmax = data['Tmax']\n",
    "Tmin = data['Tmin']\n",
    "ACCmax = data['ACCmax']\n",
    "ACCmin = data['ACCmin']"
   ]
  },
  {
   "cell_type": "code",
   "execution_count": 253,
   "metadata": {},
   "outputs": [
    {
     "data": {
      "text/plain": [
       "(1.9444999999999708, 0.0, 30.5, 25.0, 32.0, 21.0)"
      ]
     },
     "execution_count": 253,
     "metadata": {},
     "output_type": "execute_result"
    }
   ],
   "source": [
    "PDmax, PDmin, Tmax, Tmin, ACCmax, ACCmin"
   ]
  },
  {
   "cell_type": "code",
   "execution_count": 254,
   "metadata": {},
   "outputs": [],
   "source": [
    "def temp_normalize(T):\n",
    "    return ((T - Tmin)/(Tmax - Tmin))\n",
    "        \n",
    "def PD_normalize(PD):    \n",
    "    return ((PD - PDmin) / (PDmax - PDmin))\n",
    "\n",
    "def ACC_normalize(ACC):\n",
    "    return ((ACC - ACCmin) / (ACCmax - ACCmin))\n",
    "\n",
    "def temp_denormalize(T):\n",
    "    return ((Tmax - Tmin) * T + Tmin)\n",
    "        \n",
    "def PD_denormalize(PD):    \n",
    "    return ((PDmax - PDmin) * PD + PDmin)\n",
    "\n",
    "def ACC_denormalize(ACC):\n",
    "    return ((ACCmax - ACCmin) * ACC + ACCmin)"
   ]
  },
  {
   "cell_type": "code",
   "execution_count": 255,
   "metadata": {},
   "outputs": [
    {
     "data": {
      "text/plain": [
       "LSTM(\n",
       "  (lstm): LSTM(10, 32, batch_first=True)\n",
       "  (linear): Linear(in_features=32, out_features=1, bias=True)\n",
       ")"
      ]
     },
     "execution_count": 255,
     "metadata": {},
     "output_type": "execute_result"
    }
   ],
   "source": [
    "# if GPU is to be used\n",
    "device = torch.device(\"cuda\" if torch.cuda.is_available() else \"cpu\")\n",
    "\n",
    "path = '/home/remote_user/sharefile/AIoT_code/time_series_model/model/PD_Model.pkl'\n",
    "loaded_model = torch.load(path)\n",
    "PD_model = loaded_model['model'].to(device)\n",
    "PD_model.eval()\n",
    "\n",
    "path = '/home/remote_user/sharefile/AIoT_code/time_series_model/model/Temp_Model.pkl'\n",
    "loaded_model = torch.load(path)\n",
    "Temp_model = loaded_model['model'].to(device)\n",
    "Temp_model.eval()"
   ]
  },
  {
   "cell_type": "code",
   "execution_count": 256,
   "metadata": {},
   "outputs": [
    {
     "data": {
      "text/plain": [
       "torch.Size([511, 30, 10])"
      ]
     },
     "execution_count": 256,
     "metadata": {},
     "output_type": "execute_result"
    }
   ],
   "source": [
    "ori_data = torch.load('/home/remote_user/sharefile/AIoT_code/time_series_model/data/dataset.pt')\n",
    "ori_data.shape"
   ]
  },
  {
   "cell_type": "code",
   "execution_count": 257,
   "metadata": {},
   "outputs": [
    {
     "data": {
      "text/plain": [
       "tensor(0.4400)"
      ]
     },
     "execution_count": 257,
     "metadata": {},
     "output_type": "execute_result"
    }
   ],
   "source": [
    "ori_data[100][0][0]"
   ]
  },
  {
   "cell_type": "code",
   "execution_count": 258,
   "metadata": {},
   "outputs": [
    {
     "data": {
      "text/plain": [
       "tensor(27.4200)"
      ]
     },
     "execution_count": 258,
     "metadata": {},
     "output_type": "execute_result"
    }
   ],
   "source": [
    "temp_denormalize(ori_data[100][0][0])"
   ]
  },
  {
   "cell_type": "code",
   "execution_count": 259,
   "metadata": {},
   "outputs": [
    {
     "name": "stdout",
     "output_type": "stream",
     "text": [
      "室內溫度 : 30.0875\n",
      "21 度: 32.2814\n",
      "22 度: 32.289\n",
      "23 度: 32.2976\n",
      "24 度: 32.3072\n",
      "25 度: 32.3176\n",
      "26 度: 32.3286\n",
      "27 度: 32.3402\n",
      "32 度: 32.4005\n",
      "====================\n",
      "室內溫度 : 29.4\n",
      "21 度: 32.2134\n",
      "22 度: 32.2255\n",
      "23 度: 32.2383\n",
      "24 度: 32.2515\n",
      "25 度: 32.265\n",
      "26 度: 32.2787\n",
      "27 度: 32.2925\n",
      "32 度: 32.3599\n",
      "====================\n",
      "室內溫度 : 28.8775\n",
      "21 度: 32.1599\n",
      "22 度: 32.1751\n",
      "23 度: 32.1905\n",
      "24 度: 32.2059\n",
      "25 度: 32.2214\n",
      "26 度: 32.2368\n",
      "27 度: 32.252\n",
      "32 度: 32.324\n",
      "====================\n"
     ]
    }
   ],
   "source": [
    "for i in range(0, 30, 10):\n",
    "    print('室內溫度 :', round(temp_denormalize(ori_data[i][-1][0]).item(), 4))\n",
    "    for j in [21,22,23,24,25,26,27,32]:\n",
    "        jj = ACC_denormalize(j)\n",
    "        ori_data[i][-3][2] = jj\n",
    "        ori_data[i][-2][2] = jj\n",
    "        ori_data[i][-1][2] = jj\n",
    "        res = Temp_model(ori_data[i].unsqueeze(0).to(device))\n",
    "        res = temp_denormalize(res.item())\n",
    "        print(j,\"度:\", round(res,4))\n",
    "    print('='*20)\n",
    "        "
   ]
  }
 ],
 "metadata": {
  "kernelspec": {
   "display_name": "Python 3",
   "language": "python",
   "name": "python3"
  },
  "language_info": {
   "codemirror_mode": {
    "name": "ipython",
    "version": 3
   },
   "file_extension": ".py",
   "mimetype": "text/x-python",
   "name": "python",
   "nbconvert_exporter": "python",
   "pygments_lexer": "ipython3",
   "version": "3.8.10"
  },
  "orig_nbformat": 4
 },
 "nbformat": 4,
 "nbformat_minor": 2
}
