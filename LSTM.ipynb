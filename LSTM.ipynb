{
 "cells": [
  {
   "cell_type": "code",
   "execution_count": 1,
   "metadata": {},
   "outputs": [],
   "source": [
    "import torch\n",
    "import json"
   ]
  },
  {
   "cell_type": "code",
   "execution_count": 2,
   "metadata": {},
   "outputs": [],
   "source": [
    "with open('/home/remote_user/sharefile/AIoT_code/time_series_model/data/MaxMinData.json', 'r') as file:\n",
    "    data = json.load(file)\n",
    "PDmax = data['PDmax']\n",
    "PDmin = data['PDmin']\n",
    "Tmax = data['Tmax']\n",
    "Tmin = data['Tmin']\n",
    "ACCmax = data['ACCmax']\n",
    "ACCmin = data['ACCmin']"
   ]
  },
  {
   "cell_type": "code",
   "execution_count": 3,
   "metadata": {},
   "outputs": [
    {
     "data": {
      "text/plain": [
       "(1.9444999999999708, 0.0, 30.5, 25.0, 32.0, 21.0)"
      ]
     },
     "execution_count": 3,
     "metadata": {},
     "output_type": "execute_result"
    }
   ],
   "source": [
    "PDmax, PDmin, Tmax, Tmin, ACCmax, ACCmin"
   ]
  },
  {
   "cell_type": "code",
   "execution_count": 4,
   "metadata": {},
   "outputs": [],
   "source": [
    "def temp_normalize(T):\n",
    "    return ((T - Tmin)/(Tmax - Tmin))\n",
    "        \n",
    "def PD_normalize(PD):    \n",
    "    return ((PD - PDmin) / (PDmax - PDmin))\n",
    "\n",
    "def ACC_normalize(ACC):\n",
    "    return ((ACC - ACCmin) / (ACCmax - ACCmin))\n",
    "\n",
    "def temp_denormalize(T):\n",
    "    return ((Tmax - Tmin) * T + Tmin)\n",
    "        \n",
    "def PD_denormalize(PD):    \n",
    "    return ((PDmax - PDmin) * PD + PDmin)\n",
    "\n",
    "def ACC_denormalize(ACC):\n",
    "    return ((ACCmax - ACCmin) * ACC + ACCmin)"
   ]
  },
  {
   "cell_type": "code",
   "execution_count": 5,
   "metadata": {},
   "outputs": [
    {
     "data": {
      "text/plain": [
       "TransformerModel(\n",
       "  (embedding): Linear(in_features=15, out_features=128, bias=True)\n",
       "  (transformer): Transformer(\n",
       "    (encoder): TransformerEncoder(\n",
       "      (layers): ModuleList(\n",
       "        (0): TransformerEncoderLayer(\n",
       "          (self_attn): MultiheadAttention(\n",
       "            (out_proj): NonDynamicallyQuantizableLinear(in_features=128, out_features=128, bias=True)\n",
       "          )\n",
       "          (linear1): Linear(in_features=128, out_features=2048, bias=True)\n",
       "          (dropout): Dropout(p=0.1, inplace=False)\n",
       "          (linear2): Linear(in_features=2048, out_features=128, bias=True)\n",
       "          (norm1): LayerNorm((128,), eps=1e-05, elementwise_affine=True)\n",
       "          (norm2): LayerNorm((128,), eps=1e-05, elementwise_affine=True)\n",
       "          (dropout1): Dropout(p=0.1, inplace=False)\n",
       "          (dropout2): Dropout(p=0.1, inplace=False)\n",
       "        )\n",
       "      )\n",
       "      (norm): LayerNorm((128,), eps=1e-05, elementwise_affine=True)\n",
       "    )\n",
       "    (decoder): TransformerDecoder(\n",
       "      (layers): ModuleList(\n",
       "        (0): TransformerDecoderLayer(\n",
       "          (self_attn): MultiheadAttention(\n",
       "            (out_proj): NonDynamicallyQuantizableLinear(in_features=128, out_features=128, bias=True)\n",
       "          )\n",
       "          (multihead_attn): MultiheadAttention(\n",
       "            (out_proj): NonDynamicallyQuantizableLinear(in_features=128, out_features=128, bias=True)\n",
       "          )\n",
       "          (linear1): Linear(in_features=128, out_features=2048, bias=True)\n",
       "          (dropout): Dropout(p=0.1, inplace=False)\n",
       "          (linear2): Linear(in_features=2048, out_features=128, bias=True)\n",
       "          (norm1): LayerNorm((128,), eps=1e-05, elementwise_affine=True)\n",
       "          (norm2): LayerNorm((128,), eps=1e-05, elementwise_affine=True)\n",
       "          (norm3): LayerNorm((128,), eps=1e-05, elementwise_affine=True)\n",
       "          (dropout1): Dropout(p=0.1, inplace=False)\n",
       "          (dropout2): Dropout(p=0.1, inplace=False)\n",
       "          (dropout3): Dropout(p=0.1, inplace=False)\n",
       "        )\n",
       "      )\n",
       "      (norm): LayerNorm((128,), eps=1e-05, elementwise_affine=True)\n",
       "    )\n",
       "  )\n",
       "  (fc): Linear(in_features=128, out_features=1, bias=True)\n",
       ")"
      ]
     },
     "execution_count": 5,
     "metadata": {},
     "output_type": "execute_result"
    }
   ],
   "source": [
    "# if GPU is to be used\n",
    "device = torch.device(\"cuda\" if torch.cuda.is_available() else \"cpu\")\n",
    "\n",
    "path = '/home/remote_user/sharefile/AIoT_code/time_series_model/model/Transformer_PD_Model.pkl'\n",
    "loaded_model = torch.load(path)\n",
    "PD_model = loaded_model['model'].to(device)\n",
    "PD_model.eval()\n",
    "\n",
    "path = '/home/remote_user/sharefile/AIoT_code/time_series_model/model/Transformer_Temp_Model.pkl'\n",
    "loaded_model = torch.load(path)\n",
    "Temp_model = loaded_model['model'].to(device)\n",
    "Temp_model.eval()"
   ]
  },
  {
   "cell_type": "code",
   "execution_count": 6,
   "metadata": {},
   "outputs": [
    {
     "data": {
      "text/plain": [
       "torch.Size([7519, 30, 15])"
      ]
     },
     "execution_count": 6,
     "metadata": {},
     "output_type": "execute_result"
    }
   ],
   "source": [
    "ori_data = torch.load('/home/remote_user/sharefile/AIoT_code/time_series_model/data/dataset.pt')\n",
    "ori_data.shape"
   ]
  },
  {
   "cell_type": "code",
   "execution_count": 7,
   "metadata": {},
   "outputs": [
    {
     "data": {
      "text/plain": [
       "tensor(0.1818)"
      ]
     },
     "execution_count": 7,
     "metadata": {},
     "output_type": "execute_result"
    }
   ],
   "source": [
    "ori_data[100][0][0]"
   ]
  },
  {
   "cell_type": "code",
   "execution_count": 8,
   "metadata": {},
   "outputs": [
    {
     "data": {
      "text/plain": [
       "tensor(26.)"
      ]
     },
     "execution_count": 8,
     "metadata": {},
     "output_type": "execute_result"
    }
   ],
   "source": [
    "temp_denormalize(ori_data[100][0][0])"
   ]
  },
  {
   "cell_type": "code",
   "execution_count": 9,
   "metadata": {},
   "outputs": [
    {
     "name": "stdout",
     "output_type": "stream",
     "text": [
      "室內溫度 : 27.14\n",
      "21 度: 27.1122\n",
      "22 度: 27.1117\n",
      "23 度: 27.1101\n",
      "24 度: 27.1074\n",
      "25 度: 27.1037\n",
      "26 度: 27.099\n",
      "27 度: 27.0933\n",
      "32 度: 27.2902\n",
      "====================\n",
      "室內溫度 : 26.74\n",
      "21 度: 26.6853\n",
      "22 度: 26.6845\n",
      "23 度: 26.6829\n",
      "24 度: 26.6805\n",
      "25 度: 26.6773\n",
      "26 度: 26.6734\n",
      "27 度: 26.6688\n",
      "32 度: 26.7736\n",
      "====================\n",
      "室內溫度 : 26.36\n",
      "21 度: 26.3252\n",
      "22 度: 26.3256\n",
      "23 度: 26.3253\n",
      "24 度: 26.3245\n",
      "25 度: 26.3231\n",
      "26 度: 26.3212\n",
      "27 度: 26.3187\n",
      "32 度: 26.3504\n",
      "====================\n",
      "室內溫度 : 26.2\n",
      "21 度: 26.1638\n",
      "22 度: 26.1663\n",
      "23 度: 26.1683\n",
      "24 度: 26.1697\n",
      "25 度: 26.1704\n",
      "26 度: 26.1706\n",
      "27 度: 26.1702\n",
      "32 度: 26.1524\n",
      "====================\n",
      "室內溫度 : 26.2\n",
      "21 度: 26.1645\n",
      "22 度: 26.1656\n",
      "23 度: 26.166\n",
      "24 度: 26.166\n",
      "25 度: 26.1653\n",
      "26 度: 26.1641\n",
      "27 度: 26.1624\n",
      "32 度: 26.1443\n",
      "====================\n",
      "室內溫度 : 26.1\n",
      "21 度: 26.0664\n",
      "22 度: 26.0677\n",
      "23 度: 26.0684\n",
      "24 度: 26.0686\n",
      "25 度: 26.0683\n",
      "26 度: 26.0675\n",
      "27 度: 26.0663\n",
      "32 度: 26.0332\n",
      "====================\n",
      "室內溫度 : 26.0\n",
      "21 度: 25.9629\n",
      "22 度: 25.9662\n",
      "23 度: 25.9689\n",
      "24 度: 25.9712\n",
      "25 度: 25.9729\n",
      "26 度: 25.9742\n",
      "27 度: 25.975\n",
      "32 度: 25.9219\n",
      "====================\n",
      "室內溫度 : 26.0\n",
      "21 度: 25.9736\n",
      "22 度: 25.9755\n",
      "23 度: 25.977\n",
      "24 度: 25.9779\n",
      "25 度: 25.9784\n",
      "26 度: 25.9785\n",
      "27 度: 25.9781\n",
      "32 度: 25.9277\n",
      "====================\n",
      "室內溫度 : 26.0\n",
      "21 度: 25.9761\n",
      "22 度: 25.9778\n",
      "23 度: 25.979\n",
      "24 度: 25.9797\n",
      "25 度: 25.9799\n",
      "26 度: 25.9797\n",
      "27 度: 25.9791\n",
      "32 度: 25.9291\n",
      "====================\n",
      "室內溫度 : 26.02\n",
      "21 度: 25.9765\n",
      "22 度: 25.9798\n",
      "23 度: 25.9825\n",
      "24 度: 25.9847\n",
      "25 度: 25.9864\n",
      "26 度: 25.9877\n",
      "27 度: 25.9884\n",
      "32 度: 25.9362\n",
      "====================\n"
     ]
    }
   ],
   "source": [
    "for i in range(0, 100, 10):\n",
    "    print('室內溫度 :', round(temp_denormalize(ori_data[i][-1][0]).item(), 4))\n",
    "    for j in [21,22,23,24,25,26,27,32]:\n",
    "        jj = ACC_normalize(j)\n",
    "        # ori_data[i][-3][2] = jj\n",
    "        # ori_data[i][-2][2] = jj\n",
    "        ori_data[i][-1][2] = jj\n",
    "        ori_data[i][-1][3] = 0 if(j==32) else 1\n",
    "        res = Temp_model(ori_data[i].unsqueeze(0).to(device))\n",
    "        res = temp_denormalize(res.item())\n",
    "        print(j,\"度:\", round(res,4))\n",
    "    print('='*20)\n",
    "        "
   ]
  },
  {
   "cell_type": "code",
   "execution_count": 10,
   "metadata": {},
   "outputs": [
    {
     "name": "stdout",
     "output_type": "stream",
     "text": [
      "功號 : 27.14\n",
      "21 度: 27.1122\n",
      "22 度: 27.1117\n",
      "23 度: 27.1101\n",
      "24 度: 27.1074\n",
      "25 度: 27.1037\n",
      "26 度: 27.099\n",
      "27 度: 27.0933\n",
      "32 度: 27.2902\n",
      "====================\n",
      "功號 : 26.74\n",
      "21 度: 26.6853\n",
      "22 度: 26.6845\n",
      "23 度: 26.6829\n",
      "24 度: 26.6805\n",
      "25 度: 26.6773\n",
      "26 度: 26.6734\n",
      "27 度: 26.6688\n",
      "32 度: 26.7736\n",
      "====================\n",
      "功號 : 26.36\n",
      "21 度: 26.3252\n",
      "22 度: 26.3256\n",
      "23 度: 26.3253\n",
      "24 度: 26.3245\n",
      "25 度: 26.3231\n",
      "26 度: 26.3212\n",
      "27 度: 26.3187\n",
      "32 度: 26.3504\n",
      "====================\n",
      "功號 : 26.2\n",
      "21 度: 26.1638\n",
      "22 度: 26.1663\n",
      "23 度: 26.1683\n",
      "24 度: 26.1697\n",
      "25 度: 26.1704\n",
      "26 度: 26.1706\n",
      "27 度: 26.1702\n",
      "32 度: 26.1524\n",
      "====================\n",
      "功號 : 26.2\n",
      "21 度: 26.1645\n",
      "22 度: 26.1656\n",
      "23 度: 26.166\n",
      "24 度: 26.166\n",
      "25 度: 26.1653\n",
      "26 度: 26.1641\n",
      "27 度: 26.1624\n",
      "32 度: 26.1443\n",
      "====================\n",
      "功號 : 26.1\n",
      "21 度: 26.0664\n",
      "22 度: 26.0677\n",
      "23 度: 26.0684\n",
      "24 度: 26.0686\n",
      "25 度: 26.0683\n",
      "26 度: 26.0675\n",
      "27 度: 26.0663\n",
      "32 度: 26.0332\n",
      "====================\n",
      "功號 : 26.0\n",
      "21 度: 25.9629\n",
      "22 度: 25.9662\n",
      "23 度: 25.9689\n",
      "24 度: 25.9712\n",
      "25 度: 25.9729\n",
      "26 度: 25.9742\n",
      "27 度: 25.975\n",
      "32 度: 25.9219\n",
      "====================\n",
      "功號 : 26.0\n",
      "21 度: 25.9736\n",
      "22 度: 25.9755\n",
      "23 度: 25.977\n",
      "24 度: 25.9779\n",
      "25 度: 25.9784\n",
      "26 度: 25.9785\n",
      "27 度: 25.9781\n",
      "32 度: 25.9277\n",
      "====================\n",
      "功號 : 26.0\n",
      "21 度: 25.9761\n",
      "22 度: 25.9778\n",
      "23 度: 25.979\n",
      "24 度: 25.9797\n",
      "25 度: 25.9799\n",
      "26 度: 25.9797\n",
      "27 度: 25.9791\n",
      "32 度: 25.9291\n",
      "====================\n",
      "功號 : 26.02\n",
      "21 度: 25.9765\n",
      "22 度: 25.9798\n",
      "23 度: 25.9825\n",
      "24 度: 25.9847\n",
      "25 度: 25.9864\n",
      "26 度: 25.9877\n",
      "27 度: 25.9884\n",
      "32 度: 25.9362\n",
      "====================\n"
     ]
    }
   ],
   "source": [
    "for i in range(0, 100, 10):\n",
    "    print('功號 :', round(temp_denormalize(ori_data[i][-1][0]).item(), 4))\n",
    "    for j in [21,22,23,24,25,26,27,32]:\n",
    "        jj = ACC_normalize(j)\n",
    "        # ori_data[i][-3][2] = jj\n",
    "        # ori_data[i][-2][2] = jj\n",
    "        ori_data[i][-1][2] = jj\n",
    "        ori_data[i][-1][3] = 0 if(j==32) else 1\n",
    "        res = Temp_model(ori_data[i].unsqueeze(0).to(device))\n",
    "        res = temp_denormalize(res.item())\n",
    "        print(j,\"度:\", round(res,4))\n",
    "    print('='*20)"
   ]
  }
 ],
 "metadata": {
  "kernelspec": {
   "display_name": "Python 3",
   "language": "python",
   "name": "python3"
  },
  "language_info": {
   "codemirror_mode": {
    "name": "ipython",
    "version": 3
   },
   "file_extension": ".py",
   "mimetype": "text/x-python",
   "name": "python",
   "nbconvert_exporter": "python",
   "pygments_lexer": "ipython3",
   "version": "3.8.10"
  },
  "orig_nbformat": 4
 },
 "nbformat": 4,
 "nbformat_minor": 2
}
