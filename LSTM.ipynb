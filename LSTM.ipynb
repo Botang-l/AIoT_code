{
 "cells": [
  {
   "cell_type": "code",
   "execution_count": 21,
   "metadata": {},
   "outputs": [],
   "source": [
    "import torch\n",
    "import json"
   ]
  },
  {
   "cell_type": "code",
   "execution_count": 22,
   "metadata": {},
   "outputs": [],
   "source": [
    "with open('/home/remote_user/sharefile/AIoT_code/time_series_model/data/PD.json', 'r') as file:\n",
    "    PDdata = json.load(file)\n",
    "PDmax = PDdata['PDmax']\n",
    "PDmin = PDdata['PDmin']\n",
    "\n",
    "with open('/home/remote_user/sharefile/AIoT_code/time_series_model/data/Temp.json', 'r') as file:\n",
    "    Tdata = json.load(file)\n",
    "Tmax = Tdata['Tmax']\n",
    "Tmin = Tdata['Tmin']"
   ]
  },
  {
   "cell_type": "code",
   "execution_count": 23,
   "metadata": {},
   "outputs": [],
   "source": [
    "def temp_normalize(T):\n",
    "    return ((T - Tmin)/(Tmax - Tmin))\n",
    "        \n",
    "def PD_normalize(PD):    \n",
    "    return ((PD - PDmin) / (PDmax - PDmin))\n",
    "\n",
    "def temp_denormalize(T):\n",
    "    return ((Tmax - Tmin) * T + Tmin)\n",
    "        \n",
    "def PD_denormalize(PD):    \n",
    "    return ((PDmax - PDmin) * PD + PDmin)"
   ]
  },
  {
   "cell_type": "code",
   "execution_count": 24,
   "metadata": {},
   "outputs": [
    {
     "data": {
      "text/plain": [
       "LSTM(\n",
       "  (lstm): LSTM(9, 64, num_layers=3, batch_first=True)\n",
       "  (linear): Linear(in_features=64, out_features=1, bias=True)\n",
       ")"
      ]
     },
     "execution_count": 24,
     "metadata": {},
     "output_type": "execute_result"
    }
   ],
   "source": [
    "# if GPU is to be used\n",
    "device = torch.device(\"cuda\" if torch.cuda.is_available() else \"cpu\")\n",
    "\n",
    "path = '/home/remote_user/sharefile/AIoT_code/time_series_model/model/PD_Model.pkl'\n",
    "loaded_model = torch.load(path)\n",
    "PD_model = loaded_model['model'].to(device)\n",
    "PD_model.eval()\n",
    "\n",
    "path = '/home/remote_user/sharefile/AIoT_code/time_series_model/model/Temp_Model.pkl'\n",
    "loaded_model = torch.load(path)\n",
    "Temp_model = loaded_model['model'].to(device)\n",
    "Temp_model.eval()"
   ]
  },
  {
   "cell_type": "code",
   "execution_count": 25,
   "metadata": {},
   "outputs": [],
   "source": [
    "ori_data = torch.load('/home/remote_user/sharefile/AIoT_code/time_series_model/data/dataset.pt')"
   ]
  },
  {
   "cell_type": "code",
   "execution_count": null,
   "metadata": {},
   "outputs": [],
   "source": [
    "ori_data.shape"
   ]
  },
  {
   "cell_type": "code",
   "execution_count": 36,
   "metadata": {},
   "outputs": [
    {
     "data": {
      "text/plain": [
       "tensor(0.0476)"
      ]
     },
     "execution_count": 36,
     "metadata": {},
     "output_type": "execute_result"
    }
   ],
   "source": [
    "ori_data[1000][0][0]"
   ]
  },
  {
   "cell_type": "code",
   "execution_count": 38,
   "metadata": {},
   "outputs": [
    {
     "data": {
      "text/plain": [
       "tensor(25.2619)"
      ]
     },
     "execution_count": 38,
     "metadata": {},
     "output_type": "execute_result"
    }
   ],
   "source": [
    "temp_denormalize(ori_data[1000][0][0])"
   ]
  },
  {
   "cell_type": "code",
   "execution_count": 39,
   "metadata": {},
   "outputs": [
    {
     "data": {
      "text/plain": [
       "30.185998857021332"
      ]
     },
     "execution_count": 39,
     "metadata": {},
     "output_type": "execute_result"
    }
   ],
   "source": [
    "ori_data[1000][-1][2] = 1\n",
    "res = Temp_model(ori_data[0].unsqueeze(0).to(device))\n",
    "temp_denormalize(res.item())"
   ]
  },
  {
   "cell_type": "code",
   "execution_count": 29,
   "metadata": {},
   "outputs": [
    {
     "data": {
      "text/plain": [
       "30.198460817337036"
      ]
     },
     "execution_count": 29,
     "metadata": {},
     "output_type": "execute_result"
    }
   ],
   "source": [
    "ori_data[1000][-1][2] = 0.7\n",
    "res = Temp_model(ori_data[0].unsqueeze(0).to(device))\n",
    "temp_denormalize(res.item())"
   ]
  },
  {
   "cell_type": "code",
   "execution_count": 30,
   "metadata": {},
   "outputs": [
    {
     "data": {
      "text/plain": [
       "30.211024403572083"
      ]
     },
     "execution_count": 30,
     "metadata": {},
     "output_type": "execute_result"
    }
   ],
   "source": [
    "ori_data[0][-1][2] = 0\n",
    "res = Temp_model(ori_data[0].unsqueeze(0).to(device))\n",
    "temp_denormalize(res.item())"
   ]
  },
  {
   "cell_type": "code",
   "execution_count": null,
   "metadata": {},
   "outputs": [],
   "source": []
  }
 ],
 "metadata": {
  "kernelspec": {
   "display_name": "Python 3",
   "language": "python",
   "name": "python3"
  },
  "language_info": {
   "codemirror_mode": {
    "name": "ipython",
    "version": 3
   },
   "file_extension": ".py",
   "mimetype": "text/x-python",
   "name": "python",
   "nbconvert_exporter": "python",
   "pygments_lexer": "ipython3",
   "version": "3.8.10"
  },
  "orig_nbformat": 4
 },
 "nbformat": 4,
 "nbformat_minor": 2
}
