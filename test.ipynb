{
 "cells": [
  {
   "cell_type": "code",
   "execution_count": 64,
   "metadata": {},
   "outputs": [],
   "source": [
    "from collections import namedtuple, deque\n",
    "import torch\n",
    "import copy\n",
    "class LSTMdata(object):\n",
    "    def __init__(self, data):\n",
    "        _, w, _ = data.shape\n",
    "        self.__data = deque([], maxlen= w)\n",
    "        self.__data_in_stock = deque([])\n",
    "        self.init(data)\n",
    "\n",
    "    def push(self, data):\n",
    "        self.__data.append(data)\n",
    "    \n",
    "    def push_in_stock(self, data):\n",
    "        self.__data_in_stock.append(data)\n",
    "\n",
    "    def display(self):\n",
    "        print(self.__data)\n",
    "\n",
    "    def display_in_stock(self):\n",
    "        print(self.__data_in_stock)   \n",
    "    \n",
    "    def init(self, data):\n",
    "        l, w, _ = data.shape\n",
    "        for i in range(w):\n",
    "            self.push(data[0][i])\n",
    "        for i in range(1, l):\n",
    "            self.push_in_stock(data[i][-1])\n",
    "    \n",
    "    # 取得 RL 需要的當筆 data\n",
    "    def load_RLdata(self):\n",
    "        temp = self.__data[-1]\n",
    "        print(temp)\n",
    "        RLdata = torch.cat((temp[:2], temp[3:]))\n",
    "        return(RLdata)\n",
    "    \n",
    "    # 將 RL 所生成的 data 放進 __data 變數\n",
    "    def store_RLdata(self, RLdata):\n",
    "       self.__data[-1][2] = RLdata\n",
    "\n",
    "    # 取得 Time Series Model 需要的單筆 data\n",
    "    def load_TSdata(self):\n",
    "        print(list(self.__data))\n",
    "        Tdata = torch.stack(list(self.__data))\n",
    "        PDdata = copy.deepcopy(Tdata)\n",
    "        PDdata[:, [0, 1]] = PDdata[:, [1, 0]]\n",
    "        return(Tdata, PDdata)\n",
    "\n",
    "    # 將 Time Series Model 所生成的 data 是下一個時間點的變化量。\n",
    "    # 我們從 __data_in_stock 取得第一筆資料(即下一個時間點的變化量後)，並刪除 __data_in_stock該筆資料。\n",
    "    # 我們將資料的第一筆和第二筆用模型預測出的溫度和工耗代替，然後放進 __data 變數。\n",
    "    def store_TSdata(self, Tdata, PDdata):\n",
    "        temp = self.__data_in_stock[0]\n",
    "        temp[0] = Tdata\n",
    "        temp[1] = PDdata\n",
    "        self.push(temp)\n",
    "        self.__data_in_stock.popleft()\n",
    "        "
   ]
  },
  {
   "cell_type": "code",
   "execution_count": 65,
   "metadata": {},
   "outputs": [
    {
     "data": {
      "text/plain": [
       "tensor([[[ 0,  1,  2,  3,  4],\n",
       "         [ 5,  6,  7,  8,  9],\n",
       "         [10, 11, 12, 13, 14]],\n",
       "\n",
       "        [[15, 16, 17, 18, 19],\n",
       "         [20, 21, 22, 23, 24],\n",
       "         [25, 26, 27, 28, 29]],\n",
       "\n",
       "        [[30, 31, 32, 33, 34],\n",
       "         [35, 36, 37, 38, 39],\n",
       "         [40, 41, 42, 43, 44]],\n",
       "\n",
       "        [[45, 46, 47, 48, 49],\n",
       "         [50, 51, 52, 53, 54],\n",
       "         [55, 56, 57, 58, 59]],\n",
       "\n",
       "        [[60, 61, 62, 63, 64],\n",
       "         [65, 66, 67, 68, 69],\n",
       "         [70, 71, 72, 73, 74]]])"
      ]
     },
     "execution_count": 65,
     "metadata": {},
     "output_type": "execute_result"
    }
   ],
   "source": [
    "import torch\n",
    "l = 5\n",
    "w = 3\n",
    "h = 5\n",
    "# 创建一个3x3x5的递增张量\n",
    "t = torch.arange(l * w * h).reshape(l, w, h)\n",
    "\n",
    "t"
   ]
  },
  {
   "cell_type": "code",
   "execution_count": 66,
   "metadata": {},
   "outputs": [
    {
     "name": "stdout",
     "output_type": "stream",
     "text": [
      "deque([tensor([0, 1, 2, 3, 4]), tensor([5, 6, 7, 8, 9]), tensor([10, 11, 12, 13, 14])], maxlen=3)\n",
      "--------------------\n",
      "deque([tensor([25, 26, 27, 28, 29]), tensor([40, 41, 42, 43, 44]), tensor([55, 56, 57, 58, 59]), tensor([70, 71, 72, 73, 74])])\n",
      "tensor([10, 11, 12, 13, 14])\n"
     ]
    },
    {
     "data": {
      "text/plain": [
       "tensor([10, 11, 13, 14])"
      ]
     },
     "execution_count": 66,
     "metadata": {},
     "output_type": "execute_result"
    }
   ],
   "source": [
    "data = LSTMdata(t)\n",
    "data.display()\n",
    "print('-'*20)\n",
    "data.display_in_stock()\n",
    "data.load_RLdata()"
   ]
  },
  {
   "cell_type": "code",
   "execution_count": 67,
   "metadata": {},
   "outputs": [
    {
     "name": "stdout",
     "output_type": "stream",
     "text": [
      "deque([tensor([0, 1, 2, 3, 4]), tensor([5, 6, 7, 8, 9]), tensor([ 10,  11, 123,  13,  14])], maxlen=3)\n"
     ]
    }
   ],
   "source": [
    "data.store_RLdata(123)\n",
    "data.display()"
   ]
  },
  {
   "cell_type": "code",
   "execution_count": 68,
   "metadata": {},
   "outputs": [
    {
     "name": "stdout",
     "output_type": "stream",
     "text": [
      "[tensor([0, 1, 2, 3, 4]), tensor([5, 6, 7, 8, 9]), tensor([ 10,  11, 123,  13,  14])]\n"
     ]
    },
    {
     "data": {
      "text/plain": [
       "(tensor([[  0,   1,   2,   3,   4],\n",
       "         [  5,   6,   7,   8,   9],\n",
       "         [ 10,  11, 123,  13,  14]]),\n",
       " tensor([[  1,   0,   2,   3,   4],\n",
       "         [  6,   5,   7,   8,   9],\n",
       "         [ 11,  10, 123,  13,  14]]))"
      ]
     },
     "execution_count": 68,
     "metadata": {},
     "output_type": "execute_result"
    }
   ],
   "source": [
    "data.load_TSdata()"
   ]
  },
  {
   "cell_type": "code",
   "execution_count": 69,
   "metadata": {},
   "outputs": [
    {
     "name": "stdout",
     "output_type": "stream",
     "text": [
      "deque([tensor([0, 1, 2, 3, 4]), tensor([5, 6, 7, 8, 9]), tensor([ 10,  11, 123,  13,  14])], maxlen=3)\n",
      "deque([tensor([25, 26, 27, 28, 29]), tensor([40, 41, 42, 43, 44]), tensor([55, 56, 57, 58, 59]), tensor([70, 71, 72, 73, 74])])\n",
      "deque([tensor([5, 6, 7, 8, 9]), tensor([ 10,  11, 123,  13,  14]), tensor([1000, 2000,   27,   28,   29])], maxlen=3)\n",
      "deque([tensor([40, 41, 42, 43, 44]), tensor([55, 56, 57, 58, 59]), tensor([70, 71, 72, 73, 74])])\n"
     ]
    }
   ],
   "source": [
    "data.display()\n",
    "data.display_in_stock()\n",
    "data.store_TSdata(1000, 2000)\n",
    "data.display()\n",
    "data.display_in_stock()"
   ]
  }
 ],
 "metadata": {
  "kernelspec": {
   "display_name": "Python 3",
   "language": "python",
   "name": "python3"
  },
  "language_info": {
   "codemirror_mode": {
    "name": "ipython",
    "version": 3
   },
   "file_extension": ".py",
   "mimetype": "text/x-python",
   "name": "python",
   "nbconvert_exporter": "python",
   "pygments_lexer": "ipython3",
   "version": "3.8.10"
  },
  "orig_nbformat": 4
 },
 "nbformat": 4,
 "nbformat_minor": 2
}
