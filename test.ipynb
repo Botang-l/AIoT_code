{
 "cells": [
  {
   "cell_type": "code",
   "execution_count": 12,
   "metadata": {},
   "outputs": [],
   "source": [
    "from collections import namedtuple, deque\n",
    "\n",
    "class LSTMdata(object):\n",
    "    def __init__(self, capacity):\n",
    "        self.queue = deque([], maxlen=capacity)\n",
    "\n",
    "    def push(self, data):\n",
    "        self.queue.append(data)\n",
    "    \n",
    "    def display(self):\n",
    "        print(self.queue)\n"
   ]
  },
  {
   "cell_type": "code",
   "execution_count": 8,
   "metadata": {},
   "outputs": [
    {
     "data": {
      "text/plain": [
       "tensor([[[ 0,  1,  2,  3,  4],\n",
       "         [ 5,  6,  7,  8,  9],\n",
       "         [10, 11, 12, 13, 14]],\n",
       "\n",
       "        [[15, 16, 17, 18, 19],\n",
       "         [20, 21, 22, 23, 24],\n",
       "         [25, 26, 27, 28, 29]],\n",
       "\n",
       "        [[30, 31, 32, 33, 34],\n",
       "         [35, 36, 37, 38, 39],\n",
       "         [40, 41, 42, 43, 44]]])"
      ]
     },
     "execution_count": 8,
     "metadata": {},
     "output_type": "execute_result"
    }
   ],
   "source": [
    "import torch\n",
    "\n",
    "# 创建一个3x3x5的递增张量\n",
    "t = torch.arange(3*3*5).reshape(3, 3, 5)\n",
    "\n",
    "t"
   ]
  },
  {
   "cell_type": "code",
   "execution_count": 15,
   "metadata": {},
   "outputs": [
    {
     "name": "stdout",
     "output_type": "stream",
     "text": [
      "deque([tensor([0, 1, 2, 3, 4])], maxlen=3)\n",
      "--------------------\n",
      "deque([tensor([0, 1, 2, 3, 4]), tensor([5, 6, 7, 8, 9])], maxlen=3)\n",
      "--------------------\n",
      "deque([tensor([0, 1, 2, 3, 4]), tensor([5, 6, 7, 8, 9]), tensor([10, 11, 12, 13, 14])], maxlen=3)\n",
      "--------------------\n",
      "deque([tensor([5, 6, 7, 8, 9]), tensor([10, 11, 12, 13, 14]), tensor([25, 26, 27, 28, 29])], maxlen=3)\n",
      "--------------------\n",
      "deque([tensor([10, 11, 12, 13, 14]), tensor([25, 26, 27, 28, 29]), tensor([40, 41, 42, 43, 44])], maxlen=3)\n",
      "--------------------\n"
     ]
    }
   ],
   "source": [
    "queue = LSTMdata(3)\n",
    "for i in range(3):\n",
    "    queue.push(t[0][i])\n",
    "    queue.display()\n",
    "    print('-'*20)\n",
    "\n",
    "for i in range(1,3):\n",
    "    queue.push(t[i][2])\n",
    "    queue.display()\n",
    "    print('-'*20)"
   ]
  }
 ],
 "metadata": {
  "kernelspec": {
   "display_name": "Python 3",
   "language": "python",
   "name": "python3"
  },
  "language_info": {
   "codemirror_mode": {
    "name": "ipython",
    "version": 3
   },
   "file_extension": ".py",
   "mimetype": "text/x-python",
   "name": "python",
   "nbconvert_exporter": "python",
   "pygments_lexer": "ipython3",
   "version": "3.8.10"
  },
  "orig_nbformat": 4
 },
 "nbformat": 4,
 "nbformat_minor": 2
}
